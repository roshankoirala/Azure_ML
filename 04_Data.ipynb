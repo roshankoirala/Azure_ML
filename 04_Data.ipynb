{
 "cells": [
  {
   "cell_type": "code",
   "execution_count": 2,
   "id": "71c94952",
   "metadata": {},
   "outputs": [],
   "source": [
    "from azureml.core import Workspace, Datastore, Dataset"
   ]
  },
  {
   "cell_type": "markdown",
   "id": "22cd05a0",
   "metadata": {},
   "source": [
    "# Access datastore \n",
    "\n",
    "Data is vital part of the machine learning workflow. In classical software engineering the source coude is version controlled. In machine learning engineering we additionally need to version control the data as well. There are two related concept about the data in azure ml. \n",
    "- `Datasores` are the places were data is stored in the cloud. When we create a workspace it creates some default datastore to store the data and artifact. We can also setup additional datastore to the workspace. \n",
    "- `Datasets` are versioned data registered in the azure ml workspace. \n"
   ]
  },
  {
   "cell_type": "code",
   "execution_count": 3,
   "id": "0121df0a",
   "metadata": {},
   "outputs": [],
   "source": [
    "ws = Workspace.from_config()"
   ]
  },
  {
   "cell_type": "code",
   "execution_count": 4,
   "id": "da16e084",
   "metadata": {},
   "outputs": [
    {
     "name": "stdout",
     "output_type": "stream",
     "text": [
      "workspaceworkingdirectory\n",
      "workspaceblobstore\n",
      "workspacefilestore\n",
      "workspaceartifactstore\n"
     ]
    }
   ],
   "source": [
    "# We can list the all available datasotre in the workspace. \n",
    "for ds_name in ws.datastores:\n",
    "    print(ds_name)"
   ]
  },
  {
   "cell_type": "code",
   "execution_count": 5,
   "id": "c7faf4e4",
   "metadata": {},
   "outputs": [
    {
     "data": {
      "text/plain": [
       "{\n",
       "  \"name\": \"workspaceartifactstore\",\n",
       "  \"container_name\": \"azureml\",\n",
       "  \"account_name\": \"amlmstutstorageaac522ec0\",\n",
       "  \"protocol\": \"https\",\n",
       "  \"endpoint\": \"core.windows.net\"\n",
       "}"
      ]
     },
     "execution_count": 5,
     "metadata": {},
     "output_type": "execute_result"
    }
   ],
   "source": [
    "# Accessing the data store by its name. \n",
    "Datastore.get(ws, datastore_name='workspaceartifactstore')"
   ]
  },
  {
   "cell_type": "code",
   "execution_count": 6,
   "id": "315e7756",
   "metadata": {},
   "outputs": [
    {
     "data": {
      "text/plain": [
       "{\n",
       "  \"name\": \"workspaceblobstore\",\n",
       "  \"container_name\": \"azureml-blobstore-2c139677-d5ec-4bce-96b5-37848a4e6382\",\n",
       "  \"account_name\": \"amlmstutstorageaac522ec0\",\n",
       "  \"protocol\": \"https\",\n",
       "  \"endpoint\": \"core.windows.net\"\n",
       "}"
      ]
     },
     "execution_count": 6,
     "metadata": {},
     "output_type": "execute_result"
    }
   ],
   "source": [
    "# workspaceblobstore is the default datastore in the workspace. \n",
    "ws.get_default_datastore()"
   ]
  },
  {
   "cell_type": "code",
   "execution_count": 7,
   "id": "bcc1e28c",
   "metadata": {},
   "outputs": [],
   "source": [
    "# We can change the default datastore by the following code. \n",
    "ws.set_default_datastore('workspaceblobstore')"
   ]
  },
  {
   "cell_type": "markdown",
   "id": "d81b9441",
   "metadata": {},
   "source": [
    "```python \n",
    "# To register a new azure storage blob container \n",
    "# We can make this created datastore as default datastore as well. \n",
    "blob_ds = Datastore.register_azure_blob_container(workspace=ws, \n",
    "                                                 datastore_name='new_blob_data', \n",
    "                                                 container_name='rk_data_container', \n",
    "                                                 account_name='name', \n",
    "                                                 account_key='key')\n",
    "```"
   ]
  },
  {
   "cell_type": "markdown",
   "id": "e1c0c949",
   "metadata": {},
   "source": [
    "# Register data \n",
    "\n",
    "We register the data for the data versioning and reproducibility. Here we first upload the data from local machine to the `Datastore` and register the data from the `Datastore` to the `Datasets`. "
   ]
  },
  {
   "cell_type": "code",
   "execution_count": 8,
   "id": "6527ce4c",
   "metadata": {},
   "outputs": [],
   "source": [
    "datastore = ws.get_default_datastore()"
   ]
  },
  {
   "cell_type": "code",
   "execution_count": 10,
   "id": "1002e5bd",
   "metadata": {},
   "outputs": [],
   "source": [
    "# We can register the single csv file \n",
    "datastore.upload(src_dir='Data', target_path='data', overwrite=True)\n",
    "\n",
    "data_path = [(datastore, 'data/iris.csv')]\n",
    "dataset = Dataset.Tabular.from_delimited_files(path=data_path)\n",
    "dataset.register(workspace=ws, name='Irish Data')"
   ]
  },
  {
   "cell_type": "code",
   "execution_count": null,
   "id": "6b61c0f4",
   "metadata": {},
   "outputs": [],
   "source": [
    "import pandas as pd\n",
    "\n",
    "pd.read_csv('Data/iris.csv').sample(5).to_csv('Data/sample.csv')"
   ]
  },
  {
   "cell_type": "code",
   "execution_count": null,
   "id": "5218ce25",
   "metadata": {},
   "outputs": [],
   "source": [
    "# We can also register multiple csv files. \n",
    "# A second csv file is created above for this demo. \n",
    "\n",
    "datastore.upload(src_dir='Data', target_path='data', overwrite=True)\n",
    "\n",
    "data_path = [(datastore, 'data/iris.csv'), \n",
    "             (datastore, 'data/sample.csv')]\n",
    "dataset = Dataset.Tabular.from_delimited_files(path=data_path)\n",
    "dataset.register(workspace=ws, name='Two Irish Data')"
   ]
  },
  {
   "cell_type": "markdown",
   "id": "c3ecb278",
   "metadata": {},
   "source": [
    "# Retriving registered data \n",
    "\n",
    "We can retrive the registered data as a pandas dataframe in the following different ways. "
   ]
  },
  {
   "cell_type": "code",
   "execution_count": 11,
   "id": "6920ba4d",
   "metadata": {},
   "outputs": [
    {
     "name": "stderr",
     "output_type": "stream",
     "text": [
      "C:\\Python\\lib\\site-packages\\azureml\\dataprep\\api\\_dataframereader.py:172: UserWarning: Please install pyarrow>=0.16.0 for improved performance of to_pandas_dataframe. You can ensure the correct version is installed by running: pip install pyarrow>=0.16.0 --upgrade\n",
      "  warnings.warn('Please install pyarrow>=0.16.0 for improved performance of to_pandas_dataframe. '\n"
     ]
    },
    {
     "data": {
      "text/html": [
       "<div>\n",
       "<style scoped>\n",
       "    .dataframe tbody tr th:only-of-type {\n",
       "        vertical-align: middle;\n",
       "    }\n",
       "\n",
       "    .dataframe tbody tr th {\n",
       "        vertical-align: top;\n",
       "    }\n",
       "\n",
       "    .dataframe thead th {\n",
       "        text-align: right;\n",
       "    }\n",
       "</style>\n",
       "<table border=\"1\" class=\"dataframe\">\n",
       "  <thead>\n",
       "    <tr style=\"text-align: right;\">\n",
       "      <th></th>\n",
       "      <th>Column1</th>\n",
       "      <th>PL</th>\n",
       "      <th>PW</th>\n",
       "      <th>SL</th>\n",
       "      <th>SW</th>\n",
       "      <th>y</th>\n",
       "    </tr>\n",
       "  </thead>\n",
       "  <tbody>\n",
       "    <tr>\n",
       "      <th>0</th>\n",
       "      <td>84</td>\n",
       "      <td>5.4</td>\n",
       "      <td>3.0</td>\n",
       "      <td>4.5</td>\n",
       "      <td>1.5</td>\n",
       "      <td>1</td>\n",
       "    </tr>\n",
       "    <tr>\n",
       "      <th>1</th>\n",
       "      <td>127</td>\n",
       "      <td>6.1</td>\n",
       "      <td>3.0</td>\n",
       "      <td>4.9</td>\n",
       "      <td>1.8</td>\n",
       "      <td>2</td>\n",
       "    </tr>\n",
       "    <tr>\n",
       "      <th>2</th>\n",
       "      <td>85</td>\n",
       "      <td>6.0</td>\n",
       "      <td>3.4</td>\n",
       "      <td>4.5</td>\n",
       "      <td>1.6</td>\n",
       "      <td>1</td>\n",
       "    </tr>\n",
       "    <tr>\n",
       "      <th>3</th>\n",
       "      <td>146</td>\n",
       "      <td>6.3</td>\n",
       "      <td>2.5</td>\n",
       "      <td>5.0</td>\n",
       "      <td>1.9</td>\n",
       "      <td>2</td>\n",
       "    </tr>\n",
       "    <tr>\n",
       "      <th>4</th>\n",
       "      <td>25</td>\n",
       "      <td>5.0</td>\n",
       "      <td>3.0</td>\n",
       "      <td>1.6</td>\n",
       "      <td>0.2</td>\n",
       "      <td>0</td>\n",
       "    </tr>\n",
       "  </tbody>\n",
       "</table>\n",
       "</div>"
      ],
      "text/plain": [
       "   Column1   PL   PW   SL   SW  y\n",
       "0       84  5.4  3.0  4.5  1.5  1\n",
       "1      127  6.1  3.0  4.9  1.8  2\n",
       "2       85  6.0  3.4  4.5  1.6  1\n",
       "3      146  6.3  2.5  5.0  1.9  2\n",
       "4       25  5.0  3.0  1.6  0.2  0"
      ]
     },
     "execution_count": 11,
     "metadata": {},
     "output_type": "execute_result"
    }
   ],
   "source": [
    "ws.datasets['Irish Data'].to_pandas_dataframe().head()"
   ]
  },
  {
   "cell_type": "code",
   "execution_count": 12,
   "id": "f97fe930",
   "metadata": {},
   "outputs": [
    {
     "name": "stderr",
     "output_type": "stream",
     "text": [
      "C:\\Python\\lib\\site-packages\\azureml\\dataprep\\api\\_dataframereader.py:172: UserWarning: Please install pyarrow>=0.16.0 for improved performance of to_pandas_dataframe. You can ensure the correct version is installed by running: pip install pyarrow>=0.16.0 --upgrade\n",
      "  warnings.warn('Please install pyarrow>=0.16.0 for improved performance of to_pandas_dataframe. '\n"
     ]
    },
    {
     "data": {
      "text/html": [
       "<div>\n",
       "<style scoped>\n",
       "    .dataframe tbody tr th:only-of-type {\n",
       "        vertical-align: middle;\n",
       "    }\n",
       "\n",
       "    .dataframe tbody tr th {\n",
       "        vertical-align: top;\n",
       "    }\n",
       "\n",
       "    .dataframe thead th {\n",
       "        text-align: right;\n",
       "    }\n",
       "</style>\n",
       "<table border=\"1\" class=\"dataframe\">\n",
       "  <thead>\n",
       "    <tr style=\"text-align: right;\">\n",
       "      <th></th>\n",
       "      <th>Column1</th>\n",
       "      <th>PL</th>\n",
       "      <th>PW</th>\n",
       "      <th>SL</th>\n",
       "      <th>SW</th>\n",
       "      <th>y</th>\n",
       "    </tr>\n",
       "  </thead>\n",
       "  <tbody>\n",
       "    <tr>\n",
       "      <th>0</th>\n",
       "      <td>84</td>\n",
       "      <td>5.4</td>\n",
       "      <td>3.0</td>\n",
       "      <td>4.5</td>\n",
       "      <td>1.5</td>\n",
       "      <td>1</td>\n",
       "    </tr>\n",
       "    <tr>\n",
       "      <th>1</th>\n",
       "      <td>127</td>\n",
       "      <td>6.1</td>\n",
       "      <td>3.0</td>\n",
       "      <td>4.9</td>\n",
       "      <td>1.8</td>\n",
       "      <td>2</td>\n",
       "    </tr>\n",
       "    <tr>\n",
       "      <th>2</th>\n",
       "      <td>85</td>\n",
       "      <td>6.0</td>\n",
       "      <td>3.4</td>\n",
       "      <td>4.5</td>\n",
       "      <td>1.6</td>\n",
       "      <td>1</td>\n",
       "    </tr>\n",
       "    <tr>\n",
       "      <th>3</th>\n",
       "      <td>146</td>\n",
       "      <td>6.3</td>\n",
       "      <td>2.5</td>\n",
       "      <td>5.0</td>\n",
       "      <td>1.9</td>\n",
       "      <td>2</td>\n",
       "    </tr>\n",
       "    <tr>\n",
       "      <th>4</th>\n",
       "      <td>25</td>\n",
       "      <td>5.0</td>\n",
       "      <td>3.0</td>\n",
       "      <td>1.6</td>\n",
       "      <td>0.2</td>\n",
       "      <td>0</td>\n",
       "    </tr>\n",
       "  </tbody>\n",
       "</table>\n",
       "</div>"
      ],
      "text/plain": [
       "   Column1   PL   PW   SL   SW  y\n",
       "0       84  5.4  3.0  4.5  1.5  1\n",
       "1      127  6.1  3.0  4.9  1.8  2\n",
       "2       85  6.0  3.4  4.5  1.6  1\n",
       "3      146  6.3  2.5  5.0  1.9  2\n",
       "4       25  5.0  3.0  1.6  0.2  0"
      ]
     },
     "execution_count": 12,
     "metadata": {},
     "output_type": "execute_result"
    }
   ],
   "source": [
    "Dataset.get_by_name(ws, 'Irish Data').to_pandas_dataframe().head()"
   ]
  },
  {
   "cell_type": "markdown",
   "id": "b78a2046",
   "metadata": {},
   "source": [
    "# Data versioning \n",
    "\n",
    "We can turn on and off the functionality to version the data during registration. If not versioned the registration overwrites the existing data. "
   ]
  },
  {
   "cell_type": "code",
   "execution_count": null,
   "id": "d61fc7c5",
   "metadata": {},
   "outputs": [],
   "source": [
    "# Single csv file \n",
    "datastore.upload(src_dir='Data', target_path='data', overwrite=True)\n",
    "\n",
    "data_path = [(datastore, 'data/sample.csv')]\n",
    "dataset = Dataset.Tabular.from_delimited_files(path=data_path)\n",
    "\n",
    "dataset.register(workspace=ws, name='Irish Data', create_new_version=True)"
   ]
  },
  {
   "cell_type": "markdown",
   "id": "a706f94c",
   "metadata": {},
   "source": [
    "# Retriving vesrioned and Combined data\n",
    "\n",
    "We can retrive a specific version of the versioned data. "
   ]
  },
  {
   "cell_type": "code",
   "execution_count": 13,
   "id": "82ee72e2",
   "metadata": {},
   "outputs": [
    {
     "name": "stderr",
     "output_type": "stream",
     "text": [
      "C:\\Python\\lib\\site-packages\\azureml\\dataprep\\api\\_dataframereader.py:172: UserWarning: Please install pyarrow>=0.16.0 for improved performance of to_pandas_dataframe. You can ensure the correct version is installed by running: pip install pyarrow>=0.16.0 --upgrade\n",
      "  warnings.warn('Please install pyarrow>=0.16.0 for improved performance of to_pandas_dataframe. '\n"
     ]
    },
    {
     "data": {
      "text/html": [
       "<div>\n",
       "<style scoped>\n",
       "    .dataframe tbody tr th:only-of-type {\n",
       "        vertical-align: middle;\n",
       "    }\n",
       "\n",
       "    .dataframe tbody tr th {\n",
       "        vertical-align: top;\n",
       "    }\n",
       "\n",
       "    .dataframe thead th {\n",
       "        text-align: right;\n",
       "    }\n",
       "</style>\n",
       "<table border=\"1\" class=\"dataframe\">\n",
       "  <thead>\n",
       "    <tr style=\"text-align: right;\">\n",
       "      <th></th>\n",
       "      <th>Column1</th>\n",
       "      <th>PL</th>\n",
       "      <th>PW</th>\n",
       "      <th>SL</th>\n",
       "      <th>SW</th>\n",
       "      <th>y</th>\n",
       "    </tr>\n",
       "  </thead>\n",
       "  <tbody>\n",
       "    <tr>\n",
       "      <th>0</th>\n",
       "      <td>84</td>\n",
       "      <td>5.4</td>\n",
       "      <td>3.0</td>\n",
       "      <td>4.5</td>\n",
       "      <td>1.5</td>\n",
       "      <td>1</td>\n",
       "    </tr>\n",
       "    <tr>\n",
       "      <th>1</th>\n",
       "      <td>127</td>\n",
       "      <td>6.1</td>\n",
       "      <td>3.0</td>\n",
       "      <td>4.9</td>\n",
       "      <td>1.8</td>\n",
       "      <td>2</td>\n",
       "    </tr>\n",
       "    <tr>\n",
       "      <th>2</th>\n",
       "      <td>85</td>\n",
       "      <td>6.0</td>\n",
       "      <td>3.4</td>\n",
       "      <td>4.5</td>\n",
       "      <td>1.6</td>\n",
       "      <td>1</td>\n",
       "    </tr>\n",
       "    <tr>\n",
       "      <th>3</th>\n",
       "      <td>146</td>\n",
       "      <td>6.3</td>\n",
       "      <td>2.5</td>\n",
       "      <td>5.0</td>\n",
       "      <td>1.9</td>\n",
       "      <td>2</td>\n",
       "    </tr>\n",
       "    <tr>\n",
       "      <th>4</th>\n",
       "      <td>25</td>\n",
       "      <td>5.0</td>\n",
       "      <td>3.0</td>\n",
       "      <td>1.6</td>\n",
       "      <td>0.2</td>\n",
       "      <td>0</td>\n",
       "    </tr>\n",
       "  </tbody>\n",
       "</table>\n",
       "</div>"
      ],
      "text/plain": [
       "   Column1   PL   PW   SL   SW  y\n",
       "0       84  5.4  3.0  4.5  1.5  1\n",
       "1      127  6.1  3.0  4.9  1.8  2\n",
       "2       85  6.0  3.4  4.5  1.6  1\n",
       "3      146  6.3  2.5  5.0  1.9  2\n",
       "4       25  5.0  3.0  1.6  0.2  0"
      ]
     },
     "execution_count": 13,
     "metadata": {},
     "output_type": "execute_result"
    }
   ],
   "source": [
    "# Versioned data \n",
    "Dataset.get_by_name(ws, 'Irish Data', version=2).to_pandas_dataframe().head()"
   ]
  },
  {
   "cell_type": "code",
   "execution_count": 29,
   "id": "b53496d6",
   "metadata": {},
   "outputs": [
    {
     "data": {
      "text/html": [
       "<div>\n",
       "<style scoped>\n",
       "    .dataframe tbody tr th:only-of-type {\n",
       "        vertical-align: middle;\n",
       "    }\n",
       "\n",
       "    .dataframe tbody tr th {\n",
       "        vertical-align: top;\n",
       "    }\n",
       "\n",
       "    .dataframe thead th {\n",
       "        text-align: right;\n",
       "    }\n",
       "</style>\n",
       "<table border=\"1\" class=\"dataframe\">\n",
       "  <thead>\n",
       "    <tr style=\"text-align: right;\">\n",
       "      <th></th>\n",
       "      <th>PL</th>\n",
       "      <th>PW</th>\n",
       "      <th>SL</th>\n",
       "      <th>SW</th>\n",
       "      <th>y</th>\n",
       "      <th>Column6</th>\n",
       "    </tr>\n",
       "  </thead>\n",
       "  <tbody>\n",
       "    <tr>\n",
       "      <th>0</th>\n",
       "      <td>5.1</td>\n",
       "      <td>3.5</td>\n",
       "      <td>1.4</td>\n",
       "      <td>0.2</td>\n",
       "      <td>0.0</td>\n",
       "      <td>NaN</td>\n",
       "    </tr>\n",
       "    <tr>\n",
       "      <th>1</th>\n",
       "      <td>4.9</td>\n",
       "      <td>3.0</td>\n",
       "      <td>1.4</td>\n",
       "      <td>0.2</td>\n",
       "      <td>0.0</td>\n",
       "      <td>NaN</td>\n",
       "    </tr>\n",
       "    <tr>\n",
       "      <th>2</th>\n",
       "      <td>4.7</td>\n",
       "      <td>3.2</td>\n",
       "      <td>1.3</td>\n",
       "      <td>0.2</td>\n",
       "      <td>0.0</td>\n",
       "      <td>NaN</td>\n",
       "    </tr>\n",
       "    <tr>\n",
       "      <th>3</th>\n",
       "      <td>4.6</td>\n",
       "      <td>3.1</td>\n",
       "      <td>1.5</td>\n",
       "      <td>0.2</td>\n",
       "      <td>0.0</td>\n",
       "      <td>NaN</td>\n",
       "    </tr>\n",
       "    <tr>\n",
       "      <th>4</th>\n",
       "      <td>5.0</td>\n",
       "      <td>3.6</td>\n",
       "      <td>1.4</td>\n",
       "      <td>0.2</td>\n",
       "      <td>0.0</td>\n",
       "      <td>NaN</td>\n",
       "    </tr>\n",
       "    <tr>\n",
       "      <th>...</th>\n",
       "      <td>...</td>\n",
       "      <td>...</td>\n",
       "      <td>...</td>\n",
       "      <td>...</td>\n",
       "      <td>...</td>\n",
       "      <td>...</td>\n",
       "    </tr>\n",
       "    <tr>\n",
       "      <th>150</th>\n",
       "      <td>84.0</td>\n",
       "      <td>5.4</td>\n",
       "      <td>3.0</td>\n",
       "      <td>4.5</td>\n",
       "      <td>1.5</td>\n",
       "      <td>1.0</td>\n",
       "    </tr>\n",
       "    <tr>\n",
       "      <th>151</th>\n",
       "      <td>127.0</td>\n",
       "      <td>6.1</td>\n",
       "      <td>3.0</td>\n",
       "      <td>4.9</td>\n",
       "      <td>1.8</td>\n",
       "      <td>2.0</td>\n",
       "    </tr>\n",
       "    <tr>\n",
       "      <th>152</th>\n",
       "      <td>85.0</td>\n",
       "      <td>6.0</td>\n",
       "      <td>3.4</td>\n",
       "      <td>4.5</td>\n",
       "      <td>1.6</td>\n",
       "      <td>1.0</td>\n",
       "    </tr>\n",
       "    <tr>\n",
       "      <th>153</th>\n",
       "      <td>146.0</td>\n",
       "      <td>6.3</td>\n",
       "      <td>2.5</td>\n",
       "      <td>5.0</td>\n",
       "      <td>1.9</td>\n",
       "      <td>2.0</td>\n",
       "    </tr>\n",
       "    <tr>\n",
       "      <th>154</th>\n",
       "      <td>25.0</td>\n",
       "      <td>5.0</td>\n",
       "      <td>3.0</td>\n",
       "      <td>1.6</td>\n",
       "      <td>0.2</td>\n",
       "      <td>0.0</td>\n",
       "    </tr>\n",
       "  </tbody>\n",
       "</table>\n",
       "<p>155 rows × 6 columns</p>\n",
       "</div>"
      ],
      "text/plain": [
       "        PL   PW   SL   SW    y  Column6\n",
       "0      5.1  3.5  1.4  0.2  0.0      NaN\n",
       "1      4.9  3.0  1.4  0.2  0.0      NaN\n",
       "2      4.7  3.2  1.3  0.2  0.0      NaN\n",
       "3      4.6  3.1  1.5  0.2  0.0      NaN\n",
       "4      5.0  3.6  1.4  0.2  0.0      NaN\n",
       "..     ...  ...  ...  ...  ...      ...\n",
       "150   84.0  5.4  3.0  4.5  1.5      1.0\n",
       "151  127.0  6.1  3.0  4.9  1.8      2.0\n",
       "152   85.0  6.0  3.4  4.5  1.6      1.0\n",
       "153  146.0  6.3  2.5  5.0  1.9      2.0\n",
       "154   25.0  5.0  3.0  1.6  0.2      0.0\n",
       "\n",
       "[155 rows x 6 columns]"
      ]
     },
     "execution_count": 29,
     "metadata": {},
     "output_type": "execute_result"
    }
   ],
   "source": [
    "# Splitted data (How to do it correctly?)\n",
    "Dataset.get_by_name(ws, 'Two Irish Data').to_pandas_dataframe()"
   ]
  },
  {
   "cell_type": "code",
   "execution_count": null,
   "id": "840924e6",
   "metadata": {},
   "outputs": [],
   "source": []
  }
 ],
 "metadata": {
  "kernelspec": {
   "display_name": "Python 3 (ipykernel)",
   "language": "python",
   "name": "python3"
  },
  "language_info": {
   "codemirror_mode": {
    "name": "ipython",
    "version": 3
   },
   "file_extension": ".py",
   "mimetype": "text/x-python",
   "name": "python",
   "nbconvert_exporter": "python",
   "pygments_lexer": "ipython3",
   "version": "3.7.11"
  }
 },
 "nbformat": 4,
 "nbformat_minor": 5
}
