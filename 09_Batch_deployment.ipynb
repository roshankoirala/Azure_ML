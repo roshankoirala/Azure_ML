{
 "cells": [
  {
   "cell_type": "code",
   "execution_count": 5,
   "id": "9025f250",
   "metadata": {},
   "outputs": [
    {
     "ename": "ModuleNotFoundError",
     "evalue": "No module named 'azureml.core'",
     "output_type": "error",
     "traceback": [
      "\u001b[1;31m---------------------------------------------------------------------------\u001b[0m",
      "\u001b[1;31mModuleNotFoundError\u001b[0m                       Traceback (most recent call last)",
      "\u001b[1;32m~\\AppData\\Local\\Temp/ipykernel_19164/3955295852.py\u001b[0m in \u001b[0;36m<module>\u001b[1;34m\u001b[0m\n\u001b[1;32m----> 1\u001b[1;33m \u001b[1;32mfrom\u001b[0m \u001b[0mazureml\u001b[0m\u001b[1;33m.\u001b[0m\u001b[0mcore\u001b[0m \u001b[1;32mimport\u001b[0m \u001b[0mWorkspace\u001b[0m\u001b[1;33m,\u001b[0m \u001b[0mExperiment\u001b[0m\u001b[1;33m,\u001b[0m \u001b[0mEnvironment\u001b[0m\u001b[1;33m\u001b[0m\u001b[1;33m\u001b[0m\u001b[0m\n\u001b[0m\u001b[0;32m      2\u001b[0m \u001b[1;32mfrom\u001b[0m \u001b[0mazureml\u001b[0m\u001b[1;33m.\u001b[0m\u001b[0mcore\u001b[0m\u001b[1;33m.\u001b[0m\u001b[0menvironment\u001b[0m \u001b[1;32mimport\u001b[0m \u001b[0mCondaDependencies\u001b[0m\u001b[1;33m\u001b[0m\u001b[1;33m\u001b[0m\u001b[0m\n\u001b[0;32m      3\u001b[0m \u001b[1;32mfrom\u001b[0m \u001b[0mazureml\u001b[0m\u001b[1;33m.\u001b[0m\u001b[0mcore\u001b[0m\u001b[1;33m.\u001b[0m\u001b[0mcompute\u001b[0m \u001b[1;32mimport\u001b[0m \u001b[0mAmlCompute\u001b[0m\u001b[1;33m,\u001b[0m \u001b[0mComputeTarget\u001b[0m\u001b[1;33m\u001b[0m\u001b[1;33m\u001b[0m\u001b[0m\n\u001b[0;32m      4\u001b[0m \u001b[1;32mfrom\u001b[0m \u001b[0mazureml\u001b[0m\u001b[1;33m.\u001b[0m\u001b[0mdata\u001b[0m \u001b[1;32mimport\u001b[0m \u001b[0mOutputFileDatasetConfig\u001b[0m\u001b[1;33m\u001b[0m\u001b[1;33m\u001b[0m\u001b[0m\n\u001b[0;32m      5\u001b[0m \u001b[1;32mfrom\u001b[0m \u001b[0mazureml\u001b[0m\u001b[1;33m.\u001b[0m\u001b[0mpipeline\u001b[0m\u001b[1;33m.\u001b[0m\u001b[0mcore\u001b[0m \u001b[1;32mimport\u001b[0m \u001b[0mPipeline\u001b[0m\u001b[1;33m,\u001b[0m \u001b[0mPipelineData\u001b[0m\u001b[1;33m\u001b[0m\u001b[1;33m\u001b[0m\u001b[0m\n",
      "\u001b[1;31mModuleNotFoundError\u001b[0m: No module named 'azureml.core'"
     ]
    }
   ],
   "source": [
    "from azureml.core import Workspace, Experiment, Environment\n",
    "from azureml.core.environment import CondaDependencies\n",
    "from azureml.core.compute import AmlCompute, ComputeTarget\n",
    "from azureml.data import OutputFileDatasetConfig\n",
    "from azureml.pipeline.core import Pipeline, PipelineData\n",
    "from azureml.pipeline.steps import ParallelRunConfig, ParallelRunStep\n",
    "from azureml.pipeline.core import ScheduleRecurrence, Schedule"
   ]
  },
  {
   "cell_type": "code",
   "execution_count": 3,
   "id": "23edfc1e",
   "metadata": {},
   "outputs": [],
   "source": [
    "ws = Workspace.from_config()"
   ]
  },
  {
   "cell_type": "code",
   "execution_count": 9,
   "id": "805c778e",
   "metadata": {},
   "outputs": [
    {
     "data": {
      "text/plain": [
       "{\n",
       "    \"databricks\": {\n",
       "        \"eggLibraries\": [],\n",
       "        \"jarLibraries\": [],\n",
       "        \"mavenLibraries\": [],\n",
       "        \"pypiLibraries\": [],\n",
       "        \"rcranLibraries\": []\n",
       "    },\n",
       "    \"docker\": {\n",
       "        \"arguments\": [],\n",
       "        \"baseDockerfile\": null,\n",
       "        \"baseImage\": \"mcr.microsoft.com/azureml/openmpi3.1.2-ubuntu18.04:20210806.v1\",\n",
       "        \"baseImageRegistry\": {\n",
       "            \"address\": null,\n",
       "            \"password\": null,\n",
       "            \"registryIdentity\": null,\n",
       "            \"username\": null\n",
       "        },\n",
       "        \"enabled\": false,\n",
       "        \"platform\": {\n",
       "            \"architecture\": \"amd64\",\n",
       "            \"os\": \"Linux\"\n",
       "        },\n",
       "        \"sharedVolumes\": true,\n",
       "        \"shmSize\": null\n",
       "    },\n",
       "    \"environmentVariables\": {\n",
       "        \"EXAMPLE_ENV_VAR\": \"EXAMPLE_VALUE\"\n",
       "    },\n",
       "    \"inferencingStackVersion\": null,\n",
       "    \"name\": \"env_azure_pipeline\",\n",
       "    \"python\": {\n",
       "        \"baseCondaEnvironment\": null,\n",
       "        \"condaDependencies\": {\n",
       "            \"channels\": [\n",
       "                \"anaconda\",\n",
       "                \"conda-forge\"\n",
       "            ],\n",
       "            \"dependencies\": [\n",
       "                \"python=3.6.2\",\n",
       "                {\n",
       "                    \"pip\": [\n",
       "                        \"azureml-sdk~=1.34.0\",\n",
       "                        \"azureml-dataset-runtime~=1.34.0\"\n",
       "                    ]\n",
       "                },\n",
       "                \"pandas\",\n",
       "                \"scikit-learn\",\n",
       "                \"pip\"\n",
       "            ],\n",
       "            \"name\": \"azureml_fe5599b1a00d5fd894a326042d14dbf0\"\n",
       "        },\n",
       "        \"condaDependenciesFile\": null,\n",
       "        \"interpreterPath\": \"python\",\n",
       "        \"userManagedDependencies\": false\n",
       "    },\n",
       "    \"r\": null,\n",
       "    \"spark\": {\n",
       "        \"packages\": [],\n",
       "        \"precachePackages\": true,\n",
       "        \"repositories\": []\n",
       "    },\n",
       "    \"version\": \"3\"\n",
       "}"
      ]
     },
     "execution_count": 9,
     "metadata": {},
     "output_type": "execute_result"
    }
   ],
   "source": [
    "myenv = Environment(name='env_azure_pipeline')\n",
    "myenv_dep = CondaDependencies.create(conda_packages=['pandas', 'scikit-learn', 'pip'], \n",
    "                                    pip_packages=['azureml-sdk', 'azureml-dataset-runtime'])\n",
    "myenv.python.conda_dependencies = myenv_dep\n",
    "myenv.register(ws)"
   ]
  },
  {
   "cell_type": "code",
   "execution_count": 10,
   "id": "2edbfa05",
   "metadata": {},
   "outputs": [
    {
     "name": "stdout",
     "output_type": "stream",
     "text": [
      "SucceededProvisioning operation finished, operation \"Succeeded\"\n",
      "Succeeded\n",
      "AmlCompute wait for completion finished\n",
      "\n",
      "Minimum number of nodes requested have been provisioned\n"
     ]
    }
   ],
   "source": [
    "compute_name = 'rk-test-compute'\n",
    "compute_config = AmlCompute.provisioning_configuration(vm_size='STANDARD_DS11_V2', \n",
    "                                                       max_nodes=2)\n",
    "\n",
    "rk_cluster = ComputeTarget.create(ws, compute_name, compute_config)\n",
    "rk_cluster.wait_for_completion(show_output=True)"
   ]
  },
  {
   "cell_type": "code",
   "execution_count": null,
   "id": "14568700",
   "metadata": {},
   "outputs": [],
   "source": []
  },
  {
   "cell_type": "markdown",
   "id": "ac613704",
   "metadata": {},
   "source": [
    "# How to make this work?"
   ]
  },
  {
   "cell_type": "markdown",
   "id": "596e7135",
   "metadata": {},
   "source": [
    "```python \n",
    "import joblib \n",
    "import pandas as pd\n",
    "from azureml.core import Model\n",
    "\n",
    "model_path = Model.get_model_path('classification_model', \n",
    "                                  _workspace=ws)\n",
    "model = joblib.load(model_path)\n",
    "\n",
    "\n",
    "batch_data_df = batch_data.to_pandas_dataframe()\n",
    "# X = batch_data_df.drop('y', axis=1)\n",
    "model.predict(batch_data_df)\n",
    "```"
   ]
  },
  {
   "cell_type": "code",
   "execution_count": null,
   "id": "bf5d25b0",
   "metadata": {},
   "outputs": [],
   "source": []
  },
  {
   "cell_type": "markdown",
   "id": "22fd4ec4",
   "metadata": {},
   "source": [
    "# Run experiment "
   ]
  },
  {
   "cell_type": "code",
   "execution_count": 11,
   "id": "c8719437",
   "metadata": {
    "scrolled": true
   },
   "outputs": [],
   "source": [
    "parallel_run_config = ParallelRunConfig(source_directory='.', \n",
    "                                       entry_script='batch_scoring_script.py', \n",
    "                                       mini_batch_size='1KB', \n",
    "                                       error_threshold=10, \n",
    "                                       output_action='append_row', \n",
    "                                       environment=myenv, \n",
    "                                       compute_target=rk_cluster, \n",
    "                                       node_count=2)"
   ]
  },
  {
   "cell_type": "code",
   "execution_count": null,
   "id": "ac370d0e",
   "metadata": {},
   "outputs": [],
   "source": []
  },
  {
   "cell_type": "code",
   "execution_count": 12,
   "id": "2d0cd825",
   "metadata": {},
   "outputs": [],
   "source": [
    "# Registered model name \n",
    "model_used = 'classification_model'\n",
    "\n",
    "# this is our batch data to make predictions \n",
    "batch_data = ws.datasets['Irish Data 1'] \n",
    "\n",
    "# Setting up output folder \n",
    "default_ds = ws.get_default_datastore()\n",
    "output_dir = PipelineData(name='batch_inference', \n",
    "                          datastore=default_ds)"
   ]
  },
  {
   "cell_type": "code",
   "execution_count": 13,
   "id": "fdd340c1",
   "metadata": {},
   "outputs": [],
   "source": [
    "parallel_run_step = ParallelRunStep(name='batch_score', \n",
    "                                   inputs=[batch_data.as_named_input('batch_data')], \n",
    "                                   output=output_dir, \n",
    "                                   parallel_run_config=parallel_run_config, \n",
    "                                   arguments=['--model_name', model_used], \n",
    "                                   allow_reuse=True)\n",
    "\n",
    "pipeline = Pipeline(workspace=ws, \n",
    "                    steps=[parallel_run_step])"
   ]
  },
  {
   "cell_type": "code",
   "execution_count": 14,
   "id": "c60a8c34",
   "metadata": {
    "scrolled": true
   },
   "outputs": [
    {
     "name": "stdout",
     "output_type": "stream",
     "text": [
      "Created step batch_score [c2de2d09][82aaf4a3-ae9f-4d7e-aeee-39a72544e1bc], (This step will run and generate new outputs)\n",
      "Submitted PipelineRun abfdd3ec-78d0-4751-acd3-b41875bdfe7b\n",
      "Link to Azure Machine Learning Portal: https://ml.azure.com/runs/abfdd3ec-78d0-4751-acd3-b41875bdfe7b?wsid=/subscriptions/038a8790-7ab1-483b-abba-30f101e8dcce/resourcegroups/aml-resources-mstutorial/workspaces/aml-mstutorial&tid=68fda48c-5b34-479d-91f9-034da6f0efe3\n",
      "PipelineRunId: abfdd3ec-78d0-4751-acd3-b41875bdfe7b\n",
      "Link to Azure Machine Learning Portal: https://ml.azure.com/runs/abfdd3ec-78d0-4751-acd3-b41875bdfe7b?wsid=/subscriptions/038a8790-7ab1-483b-abba-30f101e8dcce/resourcegroups/aml-resources-mstutorial/workspaces/aml-mstutorial&tid=68fda48c-5b34-479d-91f9-034da6f0efe3\n",
      "PipelineRun Status: NotStarted\n",
      "PipelineRun Status: Running\n"
     ]
    },
    {
     "name": "stderr",
     "output_type": "stream",
     "text": [
      "Expected a StepRun object but received <class 'azureml.core.run.Run'> instead.\n",
      "This usually indicates a package conflict with one of the dependencies of azureml-core or azureml-pipeline-core.\n",
      "Please check for package conflicts in your python environment\n"
     ]
    },
    {
     "name": "stdout",
     "output_type": "stream",
     "text": [
      "\n",
      "\n"
     ]
    },
    {
     "ename": "ActivityFailedException",
     "evalue": "ActivityFailedException:\n\tMessage: Activity Failed:\n{\n    \"error\": {\n        \"code\": \"UserError\",\n        \"message\": \"User program failed with Exception: Run failed, please check logs for details. You can check logs/readme.txt for the layout of logs.\",\n        \"messageParameters\": {},\n        \"detailsUri\": \"https://aka.ms/azureml-run-troubleshooting\",\n        \"details\": []\n    },\n    \"time\": \"0001-01-01T00:00:00.000Z\"\n}\n\tInnerException None\n\tErrorResponse \n{\n    \"error\": {\n        \"message\": \"Activity Failed:\\n{\\n    \\\"error\\\": {\\n        \\\"code\\\": \\\"UserError\\\",\\n        \\\"message\\\": \\\"User program failed with Exception: Run failed, please check logs for details. You can check logs/readme.txt for the layout of logs.\\\",\\n        \\\"messageParameters\\\": {},\\n        \\\"detailsUri\\\": \\\"https://aka.ms/azureml-run-troubleshooting\\\",\\n        \\\"details\\\": []\\n    },\\n    \\\"time\\\": \\\"0001-01-01T00:00:00.000Z\\\"\\n}\"\n    }\n}",
     "output_type": "error",
     "traceback": [
      "\u001b[1;31m---------------------------------------------------------------------------\u001b[0m",
      "\u001b[1;31mTypeError\u001b[0m                                 Traceback (most recent call last)",
      "\u001b[1;32mC:\\Python\\lib\\site-packages\\azureml\\pipeline\\core\\run.py\u001b[0m in \u001b[0;36mwait_for_completion\u001b[1;34m(self, show_output, timeout_seconds, raise_on_error)\u001b[0m\n\u001b[0;32m    294\u001b[0m                                 step_run.wait_for_completion(timeout_seconds=timeout_seconds - time_elapsed,\n\u001b[1;32m--> 295\u001b[1;33m                                                              raise_on_error=raise_on_error)\n\u001b[0m\u001b[0;32m    296\u001b[0m                             \u001b[1;32mexcept\u001b[0m \u001b[0mTypeError\u001b[0m \u001b[1;32mas\u001b[0m \u001b[0me\u001b[0m\u001b[1;33m:\u001b[0m\u001b[1;33m\u001b[0m\u001b[1;33m\u001b[0m\u001b[0m\n",
      "\u001b[1;31mTypeError\u001b[0m: wait_for_completion() got an unexpected keyword argument 'timeout_seconds'",
      "\nDuring handling of the above exception, another exception occurred:\n",
      "\u001b[1;31mActivityFailedException\u001b[0m                   Traceback (most recent call last)",
      "\u001b[1;32m~\\AppData\\Local\\Temp/ipykernel_4324/1713546811.py\u001b[0m in \u001b[0;36m<module>\u001b[1;34m\u001b[0m\n\u001b[0;32m      1\u001b[0m pipeline_run = Experiment(workspace=ws, \n\u001b[0;32m      2\u001b[0m                          name='batch_prediction_pipeline').submit(pipeline)\n\u001b[1;32m----> 3\u001b[1;33m \u001b[0mpipeline_run\u001b[0m\u001b[1;33m.\u001b[0m\u001b[0mwait_for_completion\u001b[0m\u001b[1;33m(\u001b[0m\u001b[0mshow_output\u001b[0m\u001b[1;33m=\u001b[0m\u001b[1;32mTrue\u001b[0m\u001b[1;33m)\u001b[0m\u001b[1;33m\u001b[0m\u001b[1;33m\u001b[0m\u001b[0m\n\u001b[0m",
      "\u001b[1;32mC:\\Python\\lib\\site-packages\\azureml\\pipeline\\core\\run.py\u001b[0m in \u001b[0;36mwait_for_completion\u001b[1;34m(self, show_output, timeout_seconds, raise_on_error)\u001b[0m\n\u001b[0;32m    307\u001b[0m                                         \u001b[1;34m'azureml-core or azureml-pipeline-core.\\n'\u001b[0m \u001b[1;33m+\u001b[0m\u001b[1;33m\u001b[0m\u001b[1;33m\u001b[0m\u001b[0m\n\u001b[0;32m    308\u001b[0m                                         'Please check for package conflicts in your python environment')\n\u001b[1;32m--> 309\u001b[1;33m                                     \u001b[0mstep_run\u001b[0m\u001b[1;33m.\u001b[0m\u001b[0mwait_for_completion\u001b[0m\u001b[1;33m(\u001b[0m\u001b[0mraise_on_error\u001b[0m\u001b[1;33m=\u001b[0m\u001b[0mraise_on_error\u001b[0m\u001b[1;33m)\u001b[0m\u001b[1;33m\u001b[0m\u001b[1;33m\u001b[0m\u001b[0m\n\u001b[0m\u001b[0;32m    310\u001b[0m                                 \u001b[1;32melse\u001b[0m\u001b[1;33m:\u001b[0m\u001b[1;33m\u001b[0m\u001b[1;33m\u001b[0m\u001b[0m\n\u001b[0;32m    311\u001b[0m                                     \u001b[1;31m# Different error than the run rehydration issue\u001b[0m\u001b[1;33m\u001b[0m\u001b[1;33m\u001b[0m\u001b[1;33m\u001b[0m\u001b[0m\n",
      "\u001b[1;32mC:\\Python\\lib\\site-packages\\azureml\\core\\run.py\u001b[0m in \u001b[0;36mwait_for_completion\u001b[1;34m(self, show_output, wait_post_processing, raise_on_error)\u001b[0m\n\u001b[0;32m    857\u001b[0m \u001b[1;33m\u001b[0m\u001b[0m\n\u001b[0;32m    858\u001b[0m                 \u001b[1;32mif\u001b[0m \u001b[0mraise_on_error\u001b[0m\u001b[1;33m:\u001b[0m\u001b[1;33m\u001b[0m\u001b[1;33m\u001b[0m\u001b[0m\n\u001b[1;32m--> 859\u001b[1;33m                     \u001b[1;32mraise\u001b[0m \u001b[0mActivityFailedException\u001b[0m\u001b[1;33m(\u001b[0m\u001b[0merror_details\u001b[0m\u001b[1;33m=\u001b[0m\u001b[0mjson\u001b[0m\u001b[1;33m.\u001b[0m\u001b[0mdumps\u001b[0m\u001b[1;33m(\u001b[0m\u001b[0merror\u001b[0m\u001b[1;33m,\u001b[0m \u001b[0mindent\u001b[0m\u001b[1;33m=\u001b[0m\u001b[1;36m4\u001b[0m\u001b[1;33m)\u001b[0m\u001b[1;33m)\u001b[0m\u001b[1;33m\u001b[0m\u001b[1;33m\u001b[0m\u001b[0m\n\u001b[0m\u001b[0;32m    860\u001b[0m \u001b[1;33m\u001b[0m\u001b[0m\n\u001b[0;32m    861\u001b[0m             \u001b[1;32mreturn\u001b[0m \u001b[0mfinal_details\u001b[0m\u001b[1;33m\u001b[0m\u001b[1;33m\u001b[0m\u001b[0m\n",
      "\u001b[1;31mActivityFailedException\u001b[0m: ActivityFailedException:\n\tMessage: Activity Failed:\n{\n    \"error\": {\n        \"code\": \"UserError\",\n        \"message\": \"User program failed with Exception: Run failed, please check logs for details. You can check logs/readme.txt for the layout of logs.\",\n        \"messageParameters\": {},\n        \"detailsUri\": \"https://aka.ms/azureml-run-troubleshooting\",\n        \"details\": []\n    },\n    \"time\": \"0001-01-01T00:00:00.000Z\"\n}\n\tInnerException None\n\tErrorResponse \n{\n    \"error\": {\n        \"message\": \"Activity Failed:\\n{\\n    \\\"error\\\": {\\n        \\\"code\\\": \\\"UserError\\\",\\n        \\\"message\\\": \\\"User program failed with Exception: Run failed, please check logs for details. You can check logs/readme.txt for the layout of logs.\\\",\\n        \\\"messageParameters\\\": {},\\n        \\\"detailsUri\\\": \\\"https://aka.ms/azureml-run-troubleshooting\\\",\\n        \\\"details\\\": []\\n    },\\n    \\\"time\\\": \\\"0001-01-01T00:00:00.000Z\\\"\\n}\"\n    }\n}"
     ]
    }
   ],
   "source": [
    "pipeline_run = Experiment(workspace=ws, \n",
    "                         name='batch_prediction_pipeline').submit(pipeline)\n",
    "pipeline_run.wait_for_completion(show_output=True)"
   ]
  },
  {
   "cell_type": "markdown",
   "id": "90144bbd",
   "metadata": {},
   "source": [
    "```python \n",
    "prediction_run = next(pipeline_run.get_childern())\n",
    "prediction_output = prediction_run.get_output_data('batch_inference')\n",
    "prediction_output.download(local_path='results')\n",
    "```"
   ]
  },
  {
   "cell_type": "markdown",
   "id": "d3a960ea",
   "metadata": {},
   "source": [
    "# Deploy \n",
    "\n",
    "```python \n",
    "published_pipeline = pipeline_run.publish_pipeline(name='batch_prediction_pipeline', \n",
    "                                                   description='Batch pipeline demo', \n",
    "                                                   version='1.0')\n",
    "print('Published Pipeline', published_pipeline)\n",
    "\n",
    "rest_endpoint = published_pipeline.endpoint\n",
    "print('Rest Endpoint', rest_endpoint)\n",
    "\n",
    "hourly = ScheduleRecurrence(frequency='Hour', interval=1)\n",
    "pipeline_schedule = Schedule.create(workspace=ws, \n",
    "                                   name='trains model hourly', \n",
    "                                   pipeline_id=published_pipeline.id, \n",
    "                                   experiment_name='batch_prediction_pipeline', \n",
    "                                   recurrence=hourly)\n",
    "print('Pipeline Schedule', pipeline_schedule)\n",
    "```"
   ]
  },
  {
   "cell_type": "code",
   "execution_count": null,
   "id": "f5bbe05e",
   "metadata": {},
   "outputs": [],
   "source": []
  },
  {
   "cell_type": "markdown",
   "id": "8fa716f9",
   "metadata": {},
   "source": [
    "# Deleting things "
   ]
  },
  {
   "cell_type": "code",
   "execution_count": null,
   "id": "6d838801",
   "metadata": {},
   "outputs": [],
   "source": [
    "pipeline_schedule.disable()"
   ]
  },
  {
   "cell_type": "code",
   "execution_count": 42,
   "id": "cded660e",
   "metadata": {},
   "outputs": [],
   "source": [
    "rk_cluster.delete()"
   ]
  },
  {
   "cell_type": "code",
   "execution_count": null,
   "id": "ddd2b525",
   "metadata": {},
   "outputs": [],
   "source": []
  }
 ],
 "metadata": {
  "kernelspec": {
   "display_name": "Python 3 (ipykernel)",
   "language": "python",
   "name": "python3"
  },
  "language_info": {
   "codemirror_mode": {
    "name": "ipython",
    "version": 3
   },
   "file_extension": ".py",
   "mimetype": "text/x-python",
   "name": "python",
   "nbconvert_exporter": "python",
   "pygments_lexer": "ipython3",
   "version": "3.7.11"
  }
 },
 "nbformat": 4,
 "nbformat_minor": 5
}
